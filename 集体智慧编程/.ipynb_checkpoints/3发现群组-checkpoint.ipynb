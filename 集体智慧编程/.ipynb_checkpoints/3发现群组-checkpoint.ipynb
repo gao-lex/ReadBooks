{
 "cells": [
  {
   "cell_type": "markdown",
   "metadata": {},
   "source": [
    "# 发现群组\n",
    "\n",
    "* **数据聚类（data clustering）**：用以寻找紧密相关的事、人或观点，并将其可视化的方法。\n",
    "\n",
    "本章知识点：\n",
    "* 从各种不同的数据中狗仔算法所需的数据\n",
    "* 两种不同的聚类算法\n",
    "* 更多有关距离测量的只是\n",
    "* 简单的图形可视化代码\n",
    "* 江异常复杂的数据集投影到二维空间中\n",
    "\n",
    "---"
   ]
  },
  {
   "cell_type": "markdown",
   "metadata": {},
   "source": [
    "## 监督学习和无监督学习\n",
    "**监督学习法（supervised learning methods）**：利用样本输入和期望输出来学习如何预测的技术。eg：神经网咯、决策树、支持向量机、贝叶斯过滤...\n",
    "\n",
    "**无监督学习（unsupervised learning）**：目的实在一组数据中找寻某种结构，这些数据本身不是我们要的答案。eg：聚类（目标是采集数据，从其中找出不同的群组）、非负因式分解(non-negative matrix factorization)、自组织映射（self-organizing maps）\n",
    "\n",
    "---"
   ]
  },
  {
   "cell_type": "markdown",
   "metadata": {},
   "source": [
    "## 单词向量（Word Vectors）\n",
    "\n",
    "为聚类算法准备数据的常见做法是定义一组公共的数值型属性，我们可以利用这些属性对数据项进行比较。\n",
    "---"
   ]
  },
  {
   "cell_type": "markdown",
   "metadata": {},
   "source": [
    "### 对博客用户进行分类\n",
    "\n",
    "[./blogdata.txt](./blogdata.txt)为数据集，数据为排名前100名的博客及其关键字出现数量统计表\n",
    "\n",
    "![blogdata](./images/blogdata.png)\n",
    "\n",
    "根据单词出现的频度对博客进行聚类，可以帮助我们分析出是否存在经常撰写相似主题的博客用户。分析的结果对于搜索、分类和挖掘是非常有价值的。\n",
    "\n",
    "---"
   ]
  },
  {
   "cell_type": "markdown",
   "metadata": {},
   "source": [
    "### 对RSS订阅源中的单词进行计数\n",
    "\n",
    "RSS订阅源是一个包含博客集齐所有文章条目信息的简单XML文档。为了给每个博客中的单词进行计数，首先需要解析这些订阅源（通过[Universal Feed Parser](https://github.com/kurtmckee/feedparser)）来解析。我们的数据集为：[./feedlist.txt](./feedlist.txt)。\n",
    "\n",
    "![feedlist](./images/feedlist.png)\n",
    "\n",
    "取一个能用的网易新闻订阅源[http://news.163.com/special/00011K6L/rss_newstop.xml](http://news.163.com/special/00011K6L/rss_newstop.xml)\n",
    "\n",
    "![feedparse](./images/feedparse.png)\n",
    "然后对d.entries里面的各项中的summary或者description进行单词统计\n",
    "\n",
    "---"
   ]
  },
  {
   "cell_type": "markdown",
   "metadata": {},
   "source": [
    "## 分级聚类（Hierarchical Clustering）\n",
    "\n",
    "分级聚类通过连续不断的将最为相似的群组两两合并，来构造出一个群组的层级结构。其中的每个群组都是从单一元素开始的。其中每个群组都是从单一元素开始的。在每次迭代过程中，分级聚类算法会计算每两个群组见得距离，并将距离最近的两个群组合并成一个新的群组，这一过程一直重复下去，**直到只剩一个群组为止**。\n",
    "\n",
    "![分级聚类过程](./images/分级聚类过程.png)\n",
    "\n",
    "通常，待分级聚类完成后，我们可以采用一种图形化的方式（树状图）来展现所得的结果。树状图不仅可以表达聚类的构成情况，还可以用距离来体现构成聚类的各元素间相隔距离。这种绘制方式可以确定一个聚类中各元素间的相似程度，用此指示聚类的**紧密程度**。\n",
    "\n",
    "![分级聚类树状可视化](./images/分级聚类树状可视化.png)\n",
    "\n",
    "示例：将[./blogdata.txt](./blogdata.txt)数据集进行聚类，用来构造博客的层级结构，如果构造成功，我们将实现按主题对博客进行分组。\n",
    "\n",
    "\n",
    "分级聚类算法中的每一个聚类，可以是树中的枝节点，也可以是与数据集中实际数据行相对应的叶节点。每一个聚类海报看了指示其位置的信息，这一信息可以使来自叶节点的行数据，也可以是来自枝节点的经合并后的数据。我们可以新建一个`bitcluster`类，将所有这些属性存放其中，并以此来描述这课层级树。\n",
    "\n",
    "但是聚类结果会出现一些巧合的例外情况。\n",
    "\n",
    "---"
   ]
  },
  {
   "cell_type": "markdown",
   "metadata": {},
   "source": [
    "## 列聚类\n",
    "\n",
    "将数据集转置然后和上面的方法一样\n",
    "\n",
    "聚类中，当数据项（行）的数量比变量（）列多的时候，出现无意义聚类的可能性就会增加。\n",
    "\n",
    "---"
   ]
  },
  {
   "cell_type": "markdown",
   "metadata": {},
   "source": [
    "## K-均值聚类\n",
    "\n",
    "分级聚类的结果返回了一颗形象直观的树，但是这种方法有两个缺点：\n",
    "* 在没有额外投入的情况下，树形图是不会真正将数据拆分成不同组的\n",
    "* 该算法的计算量很大（我们必须处理每两个配对项之间的关系，并且在合并项之后，这些关系还得重新再计算）。\n",
    "\n",
    "除了分级聚类，另一种可供选择的聚类方法被称为**K-均值聚类**。这种算法完全不同于分级聚类，因为我们会预先告诉算法希望生成的聚类数量，然后算法会根据数据的结构状况来确定聚类的大小。\n",
    "\n",
    "K-均值聚类算法会先**随机**确定K个**中心位置**（位于空间中代表聚类中心的点），然后将各个数据项分配给最邻近的中心点。待分配完成之后，聚类中心就会移到分配给该聚类的所有节点的平均位置处，然后整个分配过程重新开始。这一过程一直重复，直到分配过程不再发生变化。\n",
    "\n",
    "![K-均值聚类过程](./images/K-均值聚类过程.png)\n",
    "\n",
    "由于函数选用随机的中心点作为开始，所以返回结果的顺序几乎总是不同的。根据中心点初始位置的不同，最终聚类中所包含的内容可能也会不同。"
   ]
  },
  {
   "cell_type": "markdown",
   "metadata": {},
   "source": [
    "## 针对偏好的聚类\n",
    "\n",
    "数据集[zebo.txt](zebo.txt)\n",
    "\n",
    "![zebo](./images/zebo.png)\n",
    "\n",
    "### 定义距离度量标准\n",
    "\n",
    "皮尔逊相关度很适合于博客数据集，该数据集中所包含的是单词的实际统计值。而在此处，数据集却只有0和1两种，分别代表有或无。为此，用Tanimoto系数（Tanimoto coefficient）的度量方法，它代表的是交集与的比率。\n",
    "\n",
    "### 对结果进行聚类\n",
    "\n",
    "---\n"
   ]
  },
  {
   "cell_type": "markdown",
   "metadata": {},
   "source": [
    "## 以二维形式展现数据\n",
    "\n",
    "由于要聚类的内容不止包含两个数值，所以我们不可能按照前面的方法来采集数据并以二维的形式将其绘制出来。但是，为了弄明白不同物品之间的关系，必须将它们绘制在一页纸上，并且用距离的远近来表示相似程度。\n",
    "\n",
    "我们通过**多维缩放技术（multidimensional scaling）**为数据集找到一种二维表达形式。在博客数据集中我们采用皮尔逊相关度技术来对各种数据项进行比较。\n",
    "\n",
    "也是先随机把点放上去，然后根据相关度调节。\n",
    "\n",
    "---"
   ]
  },
  {
   "cell_type": "markdown",
   "metadata": {},
   "source": [
    "## 有关聚类的其他事宜"
   ]
  }
 ],
 "metadata": {
  "anaconda-cloud": {},
  "kernelspec": {
   "display_name": "Python [default]",
   "language": "python",
   "name": "python3"
  },
  "language_info": {
   "codemirror_mode": {
    "name": "ipython",
    "version": 3
   },
   "file_extension": ".py",
   "mimetype": "text/x-python",
   "name": "python",
   "nbconvert_exporter": "python",
   "pygments_lexer": "ipython3",
   "version": "3.5.2"
  },
  "toc": {
   "colors": {
    "hover_highlight": "#DAA520",
    "navigate_num": "#000000",
    "navigate_text": "#333333",
    "running_highlight": "#FF0000",
    "selected_highlight": "#FFD700",
    "sidebar_border": "#EEEEEE",
    "wrapper_background": "#FFFFFF"
   },
   "moveMenuLeft": true,
   "nav_menu": {
    "height": "216px",
    "width": "252px"
   },
   "navigate_menu": true,
   "number_sections": true,
   "sideBar": true,
   "threshold": 4,
   "toc_cell": false,
   "toc_position": {
    "height": "796px",
    "left": "0px",
    "right": "748px",
    "top": "106px",
    "width": "212px"
   },
   "toc_section_display": "block",
   "toc_window_display": true,
   "widenNotebook": false
  }
 },
 "nbformat": 4,
 "nbformat_minor": 1
}
