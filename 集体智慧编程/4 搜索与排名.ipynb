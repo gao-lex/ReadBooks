{
 "cells": [
  {
   "cell_type": "markdown",
   "metadata": {},
   "source": [
    "# 搜索与排名\n",
    "\n",
    "**全文搜索算法：**允许人们在大量文档中搜索一系列单词，并根据文档与这些单词的相关程度对结果进行排名。ｅｇ：谷歌的PageRank算法。"
   ]
  },
  {
   "cell_type": "markdown",
   "metadata": {},
   "source": [
    "## 搜索引擎的组成\n",
    "\n",
    "建立搜索引擎的首要步骤是找到一种搜集文档的方法。这可能会涉及针对网页的抓取，也可能需要我们在一组固定数量的文档范围内进行搜集。\n",
    "\n",
    "搜集完文档后，为这些文档建立索引。通常建立一张大的表，表中包含了文档及所有不同单词的位置信息，取决于具体的应用，文档本身不一定非要保存于数据库中，索引信息只需简单地保存一个指向文档所在位置即可。\n",
    "\n",
    "最后一步是通过查询返回一个经过排序的文档列表。度量列表排序的方法：单词频度、基于网页外部信息的PageRank算法（考察其他网页对当前网页的引用情况）。\n"
   ]
  },
  {
   "cell_type": "markdown",
   "metadata": {},
   "source": [
    "##  用以分析的html文件集\n",
    "\n"
   ]
  }
 ],
 "metadata": {
  "anaconda-cloud": {},
  "kernelspec": {
   "display_name": "Python [default]",
   "language": "python",
   "name": "python3"
  },
  "language_info": {
   "codemirror_mode": {
    "name": "ipython",
    "version": 3
   },
   "file_extension": ".py",
   "mimetype": "text/x-python",
   "name": "python",
   "nbconvert_exporter": "python",
   "pygments_lexer": "ipython3",
   "version": "3.5.2"
  },
  "toc": {
   "colors": {
    "hover_highlight": "#DAA520",
    "navigate_num": "#000000",
    "navigate_text": "#333333",
    "running_highlight": "#FF0000",
    "selected_highlight": "#FFD700",
    "sidebar_border": "#EEEEEE",
    "wrapper_background": "#FFFFFF"
   },
   "moveMenuLeft": true,
   "nav_menu": {
    "height": "30px",
    "width": "252px"
   },
   "navigate_menu": true,
   "number_sections": true,
   "sideBar": true,
   "threshold": 4,
   "toc_cell": false,
   "toc_section_display": "block",
   "toc_window_display": false,
   "widenNotebook": false
  }
 },
 "nbformat": 4,
 "nbformat_minor": 1
}
